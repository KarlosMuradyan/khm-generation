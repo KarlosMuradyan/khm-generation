{
 "cells": [
  {
   "cell_type": "code",
   "execution_count": 20,
   "id": "730cae53-f991-48f8-84b4-9913eda71fe1",
   "metadata": {},
   "outputs": [],
   "source": [
    "import os\n",
    "import random\n",
    "from tqdm import tqdm\n",
    "\n",
    "import numpy as np\n",
    "\n",
    "import pretty_midi\n",
    "import note_seq\n",
    "from note_seq.midi_io import midi_to_note_sequence, note_sequence_to_pretty_midi\n",
    "\n",
    "import IPython.display\n"
   ]
  },
  {
   "cell_type": "code",
   "execution_count": 12,
   "id": "97df775a-ee22-4afa-9828-9c64f33b4682",
   "metadata": {},
   "outputs": [],
   "source": [
    "NOTE_LENGTH_16TH_120BPM = 0.25 * 60 / 120\n",
    "BAR_LENGTH_120BPM = 4.0 * 60 / 120"
   ]
  },
  {
   "cell_type": "code",
   "execution_count": 48,
   "id": "21a8ff79-4910-46c0-a935-dab8657f62b6",
   "metadata": {},
   "outputs": [],
   "source": [
    "def empty_note_sequence(qpm=120.0, total_time=0.0):\n",
    "    note_sequence = note_seq.protobuf.music_pb2.NoteSequence()\n",
    "    note_sequence.tempos.add().qpm = qpm\n",
    "    note_sequence.ticks_per_quarter = note_seq.constants.STANDARD_PPQ\n",
    "    note_sequence.total_time = total_time\n",
    "    return note_sequence\n",
    "\n",
    "def token_sequence_to_note_sequence(token_sequence, use_program=True, use_drums=True):\n",
    "\n",
    "    if isinstance(token_sequence, str):\n",
    "        token_sequence = token_sequence.split()\n",
    "\n",
    "    note_sequence = empty_note_sequence()\n",
    "    current_program = 1\n",
    "    current_is_drum = False\n",
    "    for token_index, token in enumerate(token_sequence):\n",
    "\n",
    "        if token == \"PIECE_START\":\n",
    "            pass\n",
    "        elif token == \"PIECE_END\":\n",
    "            print(\"The end.\")\n",
    "            break\n",
    "        elif token == \"TRACK_START\":\n",
    "            current_bar_index = 0\n",
    "            pass\n",
    "        elif token == \"TRACK_END\":\n",
    "            pass\n",
    "        elif token.startswith(\"INST\"):\n",
    "            current_instrument = token.split(\"=\")[-1]\n",
    "            if current_instrument != \"DRUMS\" and use_program:\n",
    "                current_instrument = int(current_instrument)\n",
    "                current_program = int(current_instrument)\n",
    "                current_is_drum = False\n",
    "            if current_instrument == \"DRUMS\" and use_drums:\n",
    "                current_instrument = 0\n",
    "                current_program = 0\n",
    "                current_is_drum = True\n",
    "        elif token == \"BAR_START\":\n",
    "            current_time = current_bar_index * BAR_LENGTH_120BPM\n",
    "            current_notes = {}\n",
    "        elif token == \"BAR_END\":\n",
    "            current_bar_index += 1\n",
    "            pass\n",
    "        elif token.startswith(\"NOTE_ON\"):\n",
    "            pitch = int(token.split(\"=\")[-1])\n",
    "            note = note_sequence.notes.add()\n",
    "            note.start_time = current_time\n",
    "            note.end_time = current_time + 4 * NOTE_LENGTH_16TH_120BPM\n",
    "            note.pitch = pitch\n",
    "            note.instrument = int(current_instrument)\n",
    "            note.program = current_program\n",
    "            note.velocity = 80\n",
    "            note.is_drum = current_is_drum\n",
    "            current_notes[pitch] = note\n",
    "        elif token.startswith(\"NOTE_OFF\"):\n",
    "            pitch = int(token.split(\"=\")[-1])\n",
    "            if pitch in current_notes:\n",
    "                note = current_notes[pitch]\n",
    "                note.end_time = current_time\n",
    "        elif token.startswith(\"TIME_DELTA\"):\n",
    "            delta = float(token.split(\"=\")[-1]) * NOTE_LENGTH_16TH_120BPM\n",
    "            current_time += delta\n",
    "        elif token.startswith(\"DENSITY=\"):\n",
    "            pass\n",
    "        elif token == \"[PAD]\":\n",
    "            pass\n",
    "        else:\n",
    "            assert False, token\n",
    "\n",
    "    return note_sequence\n",
    "\n",
    "def note_seq_to_text(notes):\n",
    "    text = \"PIECE_START\"\n",
    "    \n",
    "    instrument = -1\n",
    "    track_opened = False\n",
    "    current_bar_end = 0\n",
    "    \n",
    "    for note in notes:\n",
    "        current_instrument = note.instrument\n",
    "        current_note = note.pitch\n",
    "        current_start_time = note.start_time\n",
    "        current_end_time = note.end_time\n",
    "        \n",
    "        # Bar_end?\n",
    "        if current_start_time >= current_bar_end and track_opened:\n",
    "            text += \" BAR_END\"\n",
    "        \n",
    "        if current_instrument != instrument:\n",
    "            text += \" TRACK_END\" if track_opened else \"\"\n",
    "            text += f\" TRACK_START INST={current_instrument} DENSITY=0\"\n",
    "            instrument = current_instrument\n",
    "            track_opened = True\n",
    "            current_bar_end = 0\n",
    "\n",
    "        \n",
    "        # Bar_start?\n",
    "        if current_start_time >= current_bar_end:\n",
    "            text += \" BAR_START\"\n",
    "            current_bar_end += 2.0\n",
    "        \n",
    "        current_timedelta = (current_end_time - current_start_time)*8\n",
    "        current_timedelta = round(current_timedelta, 1)\n",
    "        #TODO multiple note_ons can be\n",
    "        text += f\" NOTE_ON={current_note} TIME_DELTA={current_timedelta} NOTE_OFF={current_note}\"\n",
    "        \n",
    "    text += \" BAR_END TRACK_END PIECE_END\\n\"\n",
    "    return text"
   ]
  },
  {
   "cell_type": "code",
   "execution_count": 49,
   "id": "e99ca0e0-96a8-4664-bdee-dba3a6333f35",
   "metadata": {},
   "outputs": [],
   "source": [
    "def preprocess_files(folder, files):\n",
    "    text = \"\"\n",
    "\n",
    "    for file in tqdm(files):\n",
    "        # Load MIDI file into PrettyMIDI object. Give path to a midi file\n",
    "        midi_data = pretty_midi.PrettyMIDI(os.path.join(folder, file))\n",
    "        note_sequence = midi_to_note_sequence(midi_data)\n",
    "        text_sequence_converted = note_seq_to_text(note_sequence.notes)\n",
    "        text += text_sequence_converted\n",
    "        \n",
    "    return text"
   ]
  },
  {
   "cell_type": "code",
   "execution_count": 50,
   "id": "74da41d5-d010-4ce5-b3b7-83fcc395e834",
   "metadata": {},
   "outputs": [],
   "source": [
    "midi_folder = \"/home/karlos/Documents/workspace/js-fakes/midi\"\n",
    "train_size = 0.8"
   ]
  },
  {
   "cell_type": "code",
   "execution_count": 51,
   "id": "a4b739b8-d875-4093-971f-c492253a79be",
   "metadata": {},
   "outputs": [],
   "source": [
    "random.seed(5)\n",
    "midi_files = os.listdir(midi_folder)\n",
    "random.shuffle(midi_files)"
   ]
  },
  {
   "cell_type": "code",
   "execution_count": 52,
   "id": "c461ed48-e289-45a0-8af7-7880cfa5ccf3",
   "metadata": {},
   "outputs": [
    {
     "data": {
      "text/plain": [
       "(400, 101)"
      ]
     },
     "execution_count": 52,
     "metadata": {},
     "output_type": "execute_result"
    }
   ],
   "source": [
    "train_midi_files, valid_midi_files = midi_files[:int(len(midi_files)*train_size)], midi_files[int(len(midi_files)*train_size):]\n",
    "len(train_midi_files), len(valid_midi_files)"
   ]
  },
  {
   "cell_type": "code",
   "execution_count": 53,
   "id": "3b71f5aa-bc72-4b92-a95f-6947cad8321c",
   "metadata": {},
   "outputs": [
    {
     "name": "stderr",
     "output_type": "stream",
     "text": [
      "100%|█████████████████████████████████████████████████████████████| 400/400 [00:03<00:00, 103.11it/s]\n",
      "100%|█████████████████████████████████████████████████████████████| 101/101 [00:00<00:00, 108.55it/s]\n"
     ]
    }
   ],
   "source": [
    "train_text = preprocess_files(midi_folder, train_midi_files)\n",
    "valid_text = preprocess_files(midi_folder, valid_midi_files)"
   ]
  },
  {
   "cell_type": "code",
   "execution_count": 54,
   "id": "f8991608-41e6-404a-b190-291c849f6f23",
   "metadata": {},
   "outputs": [],
   "source": [
    "with open('jsfake_train.txt', 'w') as f:\n",
    "    f.write(train_text)"
   ]
  },
  {
   "cell_type": "code",
   "execution_count": 55,
   "id": "a72f3b48-dd6d-41f1-85b8-c29389af9f6d",
   "metadata": {},
   "outputs": [],
   "source": [
    "with open('jsfake_valid.txt', 'w') as f:\n",
    "    f.write(valid_text)"
   ]
  },
  {
   "cell_type": "code",
   "execution_count": 56,
   "id": "a4665a37-adc3-4d0f-a545-cbe48f743e50",
   "metadata": {},
   "outputs": [
    {
     "name": "stdout",
     "output_type": "stream",
     "text": [
      "huggingface/tokenizers: The current process just got forked, after parallelism has already been used. Disabling parallelism to avoid deadlocks...\n",
      "To disable this warning, you can either:\n",
      "\t- Avoid using `tokenizers` before the fork if possible\n",
      "\t- Explicitly set the environment variable TOKENIZERS_PARALLELISM=(true | false)\n",
      "/home/karlos/Documents/workspace/khm-generation/experiments/sp1_preprocessing_of_jsfake\n"
     ]
    }
   ],
   "source": [
    "%%sh\n",
    "readlink -f ./"
   ]
  },
  {
   "cell_type": "markdown",
   "id": "465ecea6-1b25-4f42-99e0-6bf4e9b05787",
   "metadata": {},
   "source": [
    "## Tokenizer"
   ]
  },
  {
   "cell_type": "code",
   "execution_count": 81,
   "id": "3603bdf7-d11a-4bd7-bd7d-ca93b1150831",
   "metadata": {},
   "outputs": [],
   "source": [
    "from tokenizers.trainers import WordLevelTrainer\n",
    "from tokenizers import Tokenizer\n",
    "from tokenizers.models import WordLevel\n",
    "from tokenizers.pre_tokenizers import Whitespace, WhitespaceSplit\n"
   ]
  },
  {
   "cell_type": "code",
   "execution_count": 90,
   "id": "a6a9b83a-4522-425e-bbc2-cd1df0b6df09",
   "metadata": {},
   "outputs": [],
   "source": [
    "tokenizer = Tokenizer(WordLevel(unk_token='[UNK]'))\n",
    "trainer = WordLevelTrainer(special_tokens=[\"[UNK]\", \"[CLS]\", \"[SEP]\", \"[PAD]\", \"[MASK]\"])"
   ]
  },
  {
   "cell_type": "code",
   "execution_count": 91,
   "id": "849e550f-dc13-456b-9cf0-4899fde60328",
   "metadata": {},
   "outputs": [],
   "source": [
    "tokenizer.pre_tokenizer = WhitespaceSplit()"
   ]
  },
  {
   "cell_type": "code",
   "execution_count": 92,
   "id": "36bf47e7-ebc3-4f6d-84d6-e537533e195b",
   "metadata": {},
   "outputs": [],
   "source": [
    "tokenizer.train([\"jsfake_train.txt\"], trainer)"
   ]
  },
  {
   "cell_type": "code",
   "execution_count": 93,
   "id": "189ed2a8-9a27-442a-895c-5b763a9822ad",
   "metadata": {},
   "outputs": [
    {
     "data": {
      "text/plain": [
       "'{\"version\":\"1.0\",\"truncation\":null,\"padding\":null,\"added_tokens\":[{\"id\":0,\"content\":\"[UNK]\",\"single_word\":false,\"lstrip\":false,\"rstrip\":false,\"normalized\":false,\"special\":true},{\"id\":1,\"content\":\"[CLS]\",\"single_word\":false,\"lstrip\":false,\"rstrip\":false,\"normalized\":false,\"special\":true},{\"id\":2,\"content\":\"[SEP]\",\"single_word\":false,\"lstrip\":false,\"rstrip\":false,\"normalized\":false,\"special\":true},{\"id\":3,\"content\":\"[PAD]\",\"single_word\":false,\"lstrip\":false,\"rstrip\":false,\"normalized\":false,\"special\":true},{\"id\":4,\"content\":\"[MASK]\",\"single_word\":false,\"lstrip\":false,\"rstrip\":false,\"normalized\":false,\"special\":true}],\"normalizer\":null,\"pre_tokenizer\":{\"type\":\"WhitespaceSplit\"},\"post_processor\":null,\"decoder\":null,\"model\":{\"type\":\"WordLevel\",\"vocab\":{\"[UNK]\":0,\"[CLS]\":1,\"[SEP]\":2,\"[PAD]\":3,\"[MASK]\":4,\"TIME_DELTA=4.0\":5,\"TIME_DELTA=2.0\":6,\"BAR_START\":7,\"BAR_END\":8,\"NOTE_OFF=67\":9,\"NOTE_ON=67\":10,\"NOTE_OFF=62\":11,\"NOTE_ON=62\":12,\"NOTE_OFF=64\":13,\"NOTE_ON=64\":14,\"NOTE_OFF=65\":15,\"NOTE_ON=65\":16,\"TIME_DELTA=8.0\":17,\"NOTE_OFF=60\":18,\"NOTE_ON=60\":19,\"NOTE_OFF=63\":20,\"NOTE_ON=63\":21,\"NOTE_OFF=66\":22,\"NOTE_ON=66\":23,\"NOTE_OFF=59\":24,\"NOTE_ON=59\":25,\"NOTE_OFF=69\":26,\"NOTE_ON=69\":27,\"NOTE_OFF=61\":28,\"NOTE_ON=61\":29,\"NOTE_OFF=68\":30,\"NOTE_ON=68\":31,\"NOTE_OFF=55\":32,\"NOTE_ON=55\":33,\"NOTE_OFF=58\":34,\"NOTE_ON=58\":35,\"NOTE_OFF=57\":36,\"NOTE_ON=57\":37,\"NOTE_OFF=70\":38,\"NOTE_ON=70\":39,\"NOTE_OFF=56\":40,\"NOTE_ON=56\":41,\"NOTE_OFF=71\":42,\"NOTE_ON=71\":43,\"NOTE_OFF=53\":44,\"NOTE_ON=53\":45,\"TIME_DELTA=1.4\":46,\"NOTE_OFF=52\":47,\"NOTE_ON=52\":48,\"NOTE_OFF=54\":49,\"NOTE_ON=54\":50,\"NOTE_OFF=72\":51,\"NOTE_ON=72\":52,\"NOTE_OFF=50\":53,\"NOTE_ON=50\":54,\"NOTE_OFF=51\":55,\"NOTE_ON=51\":56,\"NOTE_OFF=48\":57,\"NOTE_ON=48\":58,\"NOTE_OFF=73\":59,\"NOTE_ON=73\":60,\"NOTE_OFF=49\":61,\"NOTE_ON=49\":62,\"DENSITY=0\":63,\"TRACK_END\":64,\"TRACK_START\":65,\"NOTE_OFF=74\":66,\"NOTE_ON=74\":67,\"NOTE_OFF=47\":68,\"NOTE_ON=47\":69,\"NOTE_OFF=43\":70,\"NOTE_ON=43\":71,\"NOTE_OFF=46\":72,\"NOTE_ON=46\":73,\"TIME_DELTA=1.0\":74,\"NOTE_OFF=75\":75,\"NOTE_ON=75\":76,\"NOTE_OFF=45\":77,\"NOTE_ON=45\":78,\"TIME_DELTA=6.0\":79,\"NOTE_OFF=76\":80,\"NOTE_ON=76\":81,\"TIME_DELTA=12.0\":82,\"NOTE_OFF=44\":83,\"NOTE_ON=44\":84,\"NOTE_OFF=77\":85,\"NOTE_ON=77\":86,\"TIME_DELTA=0.8\":87,\"INST=0\":88,\"INST=1\":89,\"INST=2\":90,\"INST=3\":91,\"PIECE_END\":92,\"PIECE_START\":93,\"NOTE_OFF=42\":94,\"NOTE_ON=42\":95,\"NOTE_OFF=41\":96,\"NOTE_ON=41\":97,\"NOTE_OFF=78\":98,\"NOTE_ON=78\":99,\"NOTE_OFF=35\":100,\"NOTE_ON=35\":101,\"TIME_DELTA=3.0\":102,\"NOTE_OFF=40\":103,\"NOTE_ON=40\":104,\"NOTE_OFF=79\":105,\"NOTE_ON=79\":106,\"NOTE_OFF=38\":107,\"NOTE_ON=38\":108,\"NOTE_OFF=39\":109,\"NOTE_ON=39\":110,\"NOTE_OFF=31\":111,\"NOTE_ON=31\":112,\"TIME_DELTA=16.0\":113,\"NOTE_OFF=80\":114,\"NOTE_ON=80\":115,\"NOTE_OFF=26\":116,\"NOTE_ON=26\":117,\"NOTE_OFF=36\":118,\"NOTE_ON=36\":119,\"TIME_DELTA=1.7\":120,\"NOTE_OFF=37\":121,\"NOTE_ON=37\":122,\"NOTE_OFF=28\":123,\"NOTE_ON=28\":124,\"TIME_DELTA=4.7\":125,\"NOTE_OFF=81\":126,\"NOTE_ON=81\":127,\"TIME_DELTA=8.1\":128,\"TIME_DELTA=6.4\":129,\"TIME_DELTA=7.0\":130,\"TIME_DELTA=10.0\":131,\"TIME_DELTA=0.9\":132,\"TIME_DELTA=2.6\":133,\"NOTE_OFF=33\":134,\"NOTE_ON=33\":135,\"TIME_DELTA=1.6\":136,\"TIME_DELTA=11.6\":137,\"TIME_DELTA=292.0\":138,\"TIME_DELTA=45.9\":139,\"TIME_DELTA=2.3\":140,\"TIME_DELTA=13.3\":141,\"TIME_DELTA=3.1\":142,\"INST=4\":143,\"INST=5\":144,\"INST=6\":145,\"INST=7\":146,\"INST=8\":147,\"TIME_DELTA=14.0\":148,\"TIME_DELTA=15.0\":149,\"TIME_DELTA=20.0\":150},\"unk_token\":\"[UNK]\"}}'"
      ]
     },
     "execution_count": 93,
     "metadata": {},
     "output_type": "execute_result"
    }
   ],
   "source": [
    "tokenizer.to_str()"
   ]
  },
  {
   "cell_type": "code",
   "execution_count": 94,
   "id": "8084069e-98a4-407d-87fc-718c4bd52af1",
   "metadata": {},
   "outputs": [],
   "source": [
    "tokenizer.save(\"./tokenizer-jsfake.json\")"
   ]
  },
  {
   "cell_type": "code",
   "execution_count": null,
   "id": "0f22e025-f415-4f9d-aa83-8e2dd1f42f8b",
   "metadata": {},
   "outputs": [],
   "source": []
  }
 ],
 "metadata": {
  "kernelspec": {
   "display_name": "Python 3 (ipykernel)",
   "language": "python",
   "name": "python3"
  },
  "language_info": {
   "codemirror_mode": {
    "name": "ipython",
    "version": 3
   },
   "file_extension": ".py",
   "mimetype": "text/x-python",
   "name": "python",
   "nbconvert_exporter": "python",
   "pygments_lexer": "ipython3",
   "version": "3.7.9"
  }
 },
 "nbformat": 4,
 "nbformat_minor": 5
}
