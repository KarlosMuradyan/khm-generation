{
 "cells": [
  {
   "cell_type": "code",
   "execution_count": null,
   "id": "71aea718-66e5-401c-833c-1cbd8f02f0d8",
   "metadata": {},
   "outputs": [],
   "source": [
    "import os\n",
    "import random\n",
    "from tqdm import tqdm\n",
    "from sortedcontainers import SortedList\n",
    "\n",
    "\n",
    "import numpy as np\n",
    "\n",
    "import pretty_midi\n",
    "import note_seq\n",
    "from note_seq.midi_io import midi_to_note_sequence, note_sequence_to_pretty_midi\n",
    "\n",
    "import IPython.display\n",
    "\n",
    "from helpers import *"
   ]
  },
  {
   "cell_type": "code",
   "execution_count": null,
   "id": "72b2fa8b-63bc-44e3-b021-bb48f23b15cc",
   "metadata": {},
   "outputs": [],
   "source": [
    "def preprocess(notes):\n",
    "    text = \"PIECE_START\"\n",
    "\n",
    "    sorted_lists = {}\n",
    "\n",
    "    for note in notes:\n",
    "        current_instrument = note.instrument\n",
    "        current_note = note.pitch\n",
    "        current_start_time = note.start_time\n",
    "        current_end_time = note.end_time\n",
    "        current_bar = current_start_time//2\n",
    "\n",
    "        sorted_list = sorted_lists.setdefault(current_instrument, SortedList())\n",
    "\n",
    "        sorted_list.add((current_bar, current_start_time, f'NOTE_ON={current_note}'))\n",
    "        sorted_list.add((current_bar, current_end_time, f'NOTE_OFF={current_note}'))    \n",
    "\n",
    "    for instrument, sorted_list in sorted_lists.items():\n",
    "        # TODO fill density\n",
    "        text += f' TRACK_START INST={instrument} DENSITY=0 BAR_START'\n",
    "        time_slider = 0    \n",
    "        current_bar = 0\n",
    "\n",
    "        for el in sorted_list:\n",
    "            event_bar, event_time, event = el\n",
    "\n",
    "            while event_bar != current_bar:\n",
    "                current_bar = current_bar + 1\n",
    "                text += ' BAR_END BAR_START'\n",
    "                time_slider = current_bar*2\n",
    "\n",
    "            delta_value = (event_time - time_slider)*8.0\n",
    "\n",
    "            if delta_value > 0:\n",
    "                text += f' TIME_DELTA={delta_value}'\n",
    "\n",
    "            text += f' {event}'\n",
    "            time_slider = event_time\n",
    "\n",
    "        text += f' BAR_END TRACK_END'\n",
    "    text += ' PIECE_END\\n'\n",
    "    return text"
   ]
  },
  {
   "cell_type": "markdown",
   "id": "ff480527-ebcf-45d7-a642-b96c226981f7",
   "metadata": {},
   "source": [
    "## Test case"
   ]
  },
  {
   "cell_type": "code",
   "execution_count": null,
   "id": "257cfd79-04af-41c7-b065-7547677d6f6b",
   "metadata": {},
   "outputs": [],
   "source": [
    "def case1():\n",
    "    # simple note shifted 1sec to right\n",
    "    original = 'PIECE_START TRACK_START INST=0 DENSITY=0 BAR_START TIME_DELTA=8.0 NOTE_ON=69 TIME_DELTA=8.0 NOTE_OFF=69 BAR_END TRACK_END PIECE_END\\n'\n",
    "    original_note_sequence = token_sequence_to_note_sequence(original, use_program=False)\n",
    "    \n",
    "    reencoded = preprocess(original_note_sequence.notes)\n",
    "    \n",
    "    assert original == reencoded\n",
    "    \n",
    "\n",
    "def case2():\n",
    "    # multiple simultanuous notes shifted 1 sec\n",
    "    original = 'PIECE_START TRACK_START INST=1 DENSITY=0 BAR_START NOTE_ON=50 TIME_DELTA=8.0 NOTE_ON=53 TIME_DELTA=8.0 NOTE_OFF=50 TIME_DELTA=8.0 NOTE_OFF=53 BAR_END BAR_START NOTE_ON=57 TIME_DELTA=8.0 NOTE_ON=48 TIME_DELTA=8.0 NOTE_OFF=57 TIME_DELTA=8.0 NOTE_OFF=48 BAR_END TRACK_END PIECE_END\\n'\n",
    "    original_note_sequence = token_sequence_to_note_sequence(original, use_program=False)\n",
    "    \n",
    "    reencoded = preprocess(original_note_sequence.notes)\n",
    "    \n",
    "    assert original == reencoded\n",
    "    \n",
    "def case3():\n",
    "    # one note is played while the other one is being played (starts later, ends earlier)\n",
    "    original = 'PIECE_START TRACK_START INST=0 DENSITY=0 BAR_START TIME_DELTA=8.0 NOTE_ON=69 TIME_DELTA=2.0 NOTE_ON=59 TIME_DELTA=4.0 NOTE_OFF=59 TIME_DELTA=2.0 NOTE_OFF=69 BAR_END TRACK_END PIECE_END\\n'\n",
    "    original_note_sequence = token_sequence_to_note_sequence(original, use_program=False)\n",
    "    \n",
    "    reencoded = preprocess(original_note_sequence.notes)\n",
    "    \n",
    "    assert original == reencoded\n",
    "    \n",
    "    \n",
    "def case4():\n",
    "    # the piece starts from 4th bar\n",
    "    original = 'PIECE_START TRACK_START INST=0 DENSITY=0 BAR_START BAR_END BAR_START BAR_END BAR_START TIME_DELTA=8.0 NOTE_ON=69 TIME_DELTA=2.0 NOTE_ON=59 TIME_DELTA=4.0 NOTE_OFF=59 TIME_DELTA=2.0 NOTE_OFF=69 BAR_END TRACK_END PIECE_END\\n'\n",
    "    original_note_sequence = token_sequence_to_note_sequence(original, use_program=False)\n",
    "    \n",
    "    reencoded = preprocess(original_note_sequence.notes)\n",
    "    \n",
    "    assert original == reencoded\n",
    "    \n",
    "    \n",
    "def case5():\n",
    "    # Same case 4 with two tracks\n",
    "    original = 'PIECE_START TRACK_START INST=0 DENSITY=0 BAR_START BAR_END BAR_START BAR_END BAR_START TIME_DELTA=8.0 NOTE_ON=69 TIME_DELTA=2.0 NOTE_ON=59 TIME_DELTA=4.0 NOTE_OFF=59 TIME_DELTA=2.0 NOTE_OFF=69 BAR_END TRACK_END TRACK_START INST=1 DENSITY=0 BAR_START BAR_END BAR_START BAR_END BAR_START TIME_DELTA=8.0 NOTE_ON=69 TIME_DELTA=2.0 NOTE_ON=59 TIME_DELTA=4.0 NOTE_OFF=59 TIME_DELTA=2.0 NOTE_OFF=69 BAR_END TRACK_END PIECE_END\\n'\n",
    "    original_note_sequence = token_sequence_to_note_sequence(original, use_program=False)\n",
    "    \n",
    "    reencoded = preprocess(original_note_sequence.notes)\n",
    "    \n",
    "    assert original == reencoded\n",
    "    "
   ]
  },
  {
   "cell_type": "code",
   "execution_count": null,
   "id": "fda335a4-acd4-465d-853f-3556b25f363b",
   "metadata": {},
   "outputs": [],
   "source": [
    "case1()\n",
    "case2()\n",
    "case3()\n",
    "case4()\n",
    "case5()"
   ]
  },
  {
   "cell_type": "markdown",
   "id": "7b7e1dc8-e145-42f2-be0a-c8bb1aaa79d5",
   "metadata": {},
   "source": [
    "## On real examples"
   ]
  },
  {
   "cell_type": "markdown",
   "id": "6780c3b5-4ddf-4f43-84dc-56f396e5e5e1",
   "metadata": {},
   "source": [
    "### Love the way you lie"
   ]
  },
  {
   "cell_type": "code",
   "execution_count": null,
   "id": "f0fcbc9e-54ac-4dec-8c11-1d0697e70323",
   "metadata": {},
   "outputs": [],
   "source": [
    "midi_data = pretty_midi.PrettyMIDI('LovetheWayYouLie.mid')\n",
    "note_sequence = midi_to_note_sequence(midi_data)\n"
   ]
  },
  {
   "cell_type": "code",
   "execution_count": null,
   "id": "b458c2b6-496c-4953-8f4e-1cc83930595d",
   "metadata": {},
   "outputs": [],
   "source": [
    "note_seq.plot_sequence(note_sequence)\n",
    "note_seq.play_sequence(note_sequence)\n"
   ]
  },
  {
   "cell_type": "code",
   "execution_count": null,
   "id": "569c2eb1-ea81-468e-abae-2cb546d6cf27",
   "metadata": {},
   "outputs": [],
   "source": [
    "encoding = preprocess(note_sequence.notes)"
   ]
  },
  {
   "cell_type": "code",
   "execution_count": null,
   "id": "2866bda3-69d7-4de8-81c1-1ced7660d06a",
   "metadata": {},
   "outputs": [],
   "source": [
    "sequence_new = token_sequence_to_note_sequence(encoding, use_program=False)\n",
    "note_seq.plot_sequence(sequence_new)\n",
    "note_seq.play_sequence(sequence_new)"
   ]
  },
  {
   "cell_type": "markdown",
   "id": "b6024d90-cd6f-42bb-ac5e-668a75031116",
   "metadata": {},
   "source": [
    "### stan"
   ]
  },
  {
   "cell_type": "code",
   "execution_count": null,
   "id": "cb2ad2ba-74c9-4a8c-b8ed-c68bb9cf4ad9",
   "metadata": {},
   "outputs": [],
   "source": [
    "midi_data = pretty_midi.PrettyMIDI('eminemstanexc.mid')\n",
    "note_sequence = midi_to_note_sequence(midi_data)\n",
    "note_seq.plot_sequence(note_sequence)\n",
    "note_seq.play_sequence(note_sequence)\n"
   ]
  },
  {
   "cell_type": "code",
   "execution_count": null,
   "id": "433c10c4-56c5-4a25-89ca-47193f1bdd30",
   "metadata": {},
   "outputs": [],
   "source": [
    "encoding = preprocess(note_sequence.notes)"
   ]
  },
  {
   "cell_type": "code",
   "execution_count": null,
   "id": "9afc2a7e-19c5-45bf-9172-ac4834f7888f",
   "metadata": {},
   "outputs": [],
   "source": [
    "sequence_new = token_sequence_to_note_sequence(encoding, use_program=False)\n",
    "note_seq.plot_sequence(sequence_new)\n",
    "note_seq.play_sequence(sequence_new)"
   ]
  },
  {
   "cell_type": "markdown",
   "id": "a49e3444-5a3d-4bc1-8202-d1dbfbbcf233",
   "metadata": {},
   "source": [
    "### Mockingbird"
   ]
  },
  {
   "cell_type": "code",
   "execution_count": null,
   "id": "af19d60a-86ea-4377-8807-3e0f070917e5",
   "metadata": {},
   "outputs": [],
   "source": [
    "midi_data = pretty_midi.PrettyMIDI('EminemMockingbird.mid')\n",
    "note_sequence = midi_to_note_sequence(midi_data)\n",
    "note_seq.plot_sequence(note_sequence)\n",
    "note_seq.play_sequence(note_sequence)\n"
   ]
  },
  {
   "cell_type": "code",
   "execution_count": null,
   "id": "d20a9919-6d1f-450a-8041-13a327debad1",
   "metadata": {},
   "outputs": [],
   "source": [
    "encoding = preprocess(note_sequence.notes)"
   ]
  },
  {
   "cell_type": "code",
   "execution_count": null,
   "id": "3a48d376-eada-4faa-ab4e-4125a094f06d",
   "metadata": {},
   "outputs": [],
   "source": [
    "sequence_new = token_sequence_to_note_sequence(encoding, use_program=False)\n",
    "note_seq.plot_sequence(sequence_new)\n",
    "note_seq.play_sequence(sequence_new)"
   ]
  },
  {
   "cell_type": "code",
   "execution_count": null,
   "id": "e42ec673-4748-42b2-8f72-369127c6c24a",
   "metadata": {},
   "outputs": [],
   "source": []
  }
 ],
 "metadata": {
  "kernelspec": {
   "display_name": "Python 3 (ipykernel)",
   "language": "python",
   "name": "python3"
  },
  "language_info": {
   "codemirror_mode": {
    "name": "ipython",
    "version": 3
   },
   "file_extension": ".py",
   "mimetype": "text/x-python",
   "name": "python",
   "nbconvert_exporter": "python",
   "pygments_lexer": "ipython3",
   "version": "3.7.9"
  }
 },
 "nbformat": 4,
 "nbformat_minor": 5
}
